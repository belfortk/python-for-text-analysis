{
 "cells": [
  {
   "cell_type": "markdown",
   "metadata": {},
   "source": [
    "# Assignment 1: Calculation, Strings, Boolean Expressions and Conditions\n",
    "\n",
    "### Due: Friday the 2nd of November 2018 at 23:59 \n",
    "\n",
    "- Please name your notebook with the following naming convention: ASSIGNMENT_1_FIRSTNAME_LASTNAME.ipynb \n",
    "- Please submit your assignment using [this google form](https://goo.gl/forms/8U5qwqANbNSFMuWx2)\n",
    "- If you have **questions** about this topic, please refer to the **forum on the Canvas site**.\n",
    "\n",
    "\n",
    "In this block, we covered the following chapters:\n",
    "\n",
    "- Chapter 1 - Getting Started with Variables and Values\n",
    "- Chapter 2 - Basic Data Types (Integers and Floats)\n",
    "- Chapter 3 - Strings\n",
    "- Chapter 4 - Boolean Expressions and Conditions\n",
    "\n",
    "In this assignment, you will be asked to show what you have learned from the topics above!"
   ]
  },
  {
   "cell_type": "markdown",
   "metadata": {},
   "source": [
    "## Exercise 1: Calculation\n"
   ]
  },
  {
   "cell_type": "markdown",
   "metadata": {},
   "source": [
    "#### 1a. Average \n",
    "Define three variables `var1`, `var2` and `var3`. Calculate the average of these variables and assign it to the variable `average`. Print the outcome of your program as follows (use casting or an f-string):\n",
    "\n",
    "`The average of [...], [...] and [...] is: [...]`"
   ]
  },
  {
   "cell_type": "code",
   "execution_count": 1,
   "metadata": {},
   "outputs": [
    {
     "name": "stdout",
     "output_type": "stream",
     "text": [
      "The average of 1, 2 and 3 is: 2\n"
     ]
    }
   ],
   "source": [
    "# average code\n",
    "var1 = 1\n",
    "var2 = 2\n",
    "var3 = 3\n",
    "average = (var1 + var2 + var3)/3\n",
    "print('The average of %d, %d and %d is: %d' % (var1, var2, var3, average))"
   ]
  },
  {
   "cell_type": "markdown",
   "metadata": {},
   "source": [
    "#### 1b. Book prices\n",
    "Suppose the cover price of a book is 24.95 EUR, but bookstores get a 40 percent discount. Shipping costs 3 EUR for the first copy and 75 cents for each additional copy. Write a program that can calculate the total costs for any number of copies for both bookstores and other customers. Use variables with clear names for your calculations and print the result using a full sentence."
   ]
  },
  {
   "cell_type": "code",
   "execution_count": 20,
   "metadata": {},
   "outputs": [
    {
     "name": "stdout",
     "output_type": "stream",
     "text": [
      "For 1 books, it would cost bookstores $17.97 and other customers $27.95\n"
     ]
    }
   ],
   "source": [
    "# book price code\n",
    "def total_costs(num):\n",
    "    cover_price = 24.95\n",
    "    bs_discount = .4\n",
    "    add_copies = num - 1\n",
    "    shipping = float(3 + .75 * (add_copies))\n",
    "    bs_cost = float(cover_price - (bs_discount * cover_price) + shipping)\n",
    "    normal_cost = float(cover_price + shipping)\n",
    "    print(\"For %d books, it would cost bookstores $%.2f and other customers $%.2f\" % (num, bs_cost, normal_cost))\n",
    "\n",
    "total_costs(12)"
   ]
  },
  {
   "cell_type": "markdown",
   "metadata": {},
   "source": [
    "#### 1c. The modulus operator \n",
    "\n",
    "There is one operator (like the ones for multiplication and subtraction) that we did not discuss yet, namely the modulus operator %. Could you figure by yourself what it does when you place it between two numbers (e.g. 113 % 9)? (PS: It's OK to get help online...) You don't need this operator all that often, but when you do, it comes in really handy!"
   ]
  },
  {
   "cell_type": "code",
   "execution_count": null,
   "metadata": {
    "collapsed": true
   },
   "outputs": [],
   "source": [
    "# try out the modulus operator!\n",
    "113 % 9"
   ]
  },
  {
   "cell_type": "markdown",
   "metadata": {},
   "source": [
    "Can you use the modulus operator you just learned about to solve the following task? Write a code block that classifies a given amount of money into smaller monetary units. Set the amount variable to 11.56. You code should output a report listing the monetary equivalent in dollars, quarters, dimes, nickels, and pennies. Your program should report the maximum number of dollars, then the number of quarters, dimes, nickels, and pennies, in this order, to result in the minimum number of coins. Here are the steps in developing the program:\n",
    "\n",
    "> `Convert the amount (11.56) into cents (1156). Divide the cents by 100 to find the number of dollars, and subtract the rest using the modulus operator! Divide the remaining cents by 25 to find the number of quarters, and, again,  subtract the rest using the modulus operator! Divide the remaining cents by 10 to find the number of dimes, etc. Divide the remaining cents by 5 to find the number of nickels, etc. The remaining cents are the pennies. Now display the result for your cashier!`"
   ]
  },
  {
   "cell_type": "code",
   "execution_count": 66,
   "metadata": {},
   "outputs": [
    {
     "name": "stdout",
     "output_type": "stream",
     "text": [
      "11 dollars, 2 quarters, 0 dimes, 1 nickels, 1 pennies\n"
     ]
    }
   ],
   "source": [
    "# cashier code\n",
    "amount = 11.56\n",
    "cents = amount * 100\n",
    "dollars =  int(cents/100)\n",
    "cents = cents%(dollars * 100)\n",
    "quarters = int(cents/25)\n",
    "cents = cents%(quarters * 25)\n",
    "dimes = int(cents/10)\n",
    "#cents = cents%(dimes * 10) //can't divide by 0\n",
    "nickels = int(cents/5)\n",
    "cents = cents%(nickels * 5)\n",
    "pennies = int(cents)\n",
    "\n",
    "print(f\"{dollars} dollars, {quarters} quarters, {dimes} dimes, {nickels} nickels, {pennies} pennies\")"
   ]
  },
  {
   "cell_type": "markdown",
   "metadata": {},
   "source": [
    "## Exercise 2: Printing and user input\n"
   ]
  },
  {
   "cell_type": "markdown",
   "metadata": {},
   "source": [
    "#### 2a. Difference between \",\" and \"+\"\n",
    "\n",
    "What is the difference between using **+** and **,** in a print statement? Illustrate by using both in each of the following:\n",
    "\n",
    "* calling the `print()` fuction with multiple strings\n",
    "* printing combinations of strings and integers\n",
    "* concatenating multiple strings and assign to one single variable\n",
    "* concatenating strings and integers and assign to one single variable"
   ]
  },
  {
   "cell_type": "code",
   "execution_count": 22,
   "metadata": {},
   "outputs": [
    {
     "name": "stdout",
     "output_type": "stream",
     "text": [
      "hello world!\n"
     ]
    }
   ],
   "source": [
    "print('hello', 'world' + '!')"
   ]
  },
  {
   "cell_type": "code",
   "execution_count": 23,
   "metadata": {},
   "outputs": [
    {
     "name": "stdout",
     "output_type": "stream",
     "text": [
      "strings and integers: 1123\n"
     ]
    }
   ],
   "source": [
    "print('strings' + ' and integers:', str(1123))"
   ]
  },
  {
   "cell_type": "code",
   "execution_count": 26,
   "metadata": {},
   "outputs": [
    {
     "name": "stdout",
     "output_type": "stream",
     "text": [
      "hello world !\n"
     ]
    }
   ],
   "source": [
    "s = 'hello' + ' world!'\n",
    "print(s,'ping')"
   ]
  },
  {
   "cell_type": "code",
   "execution_count": 28,
   "metadata": {},
   "outputs": [
    {
     "name": "stdout",
     "output_type": "stream",
     "text": [
      "ping pong: 123\n"
     ]
    }
   ],
   "source": [
    "s ='ping' + ' pong: ' + str(123)\n",
    "print(s)"
   ]
  },
  {
   "cell_type": "markdown",
   "metadata": {
    "collapsed": true
   },
   "source": [
    "####  2b. Small Talk\n",
    "Write a program to have a little conversation with someone. First ask them for their name and their age, and then say something about your own age compared to theirs. Try to generate the following conversation:\n",
    "\n",
    "> `Hello there! What is your name?`\n",
    "\n",
    "> -- Emily.\n",
    "\n",
    "> `Nice to meet you, Emily. How old are you?`\n",
    "\n",
    "> -- 23\n",
    "\n",
    "> `I'm 25 years old, so I'm 2 years older than you.`\n",
    "\n",
    "Also account for situations where the other person is older or the same age. You will need to use `if`-statements!"
   ]
  },
  {
   "cell_type": "code",
   "execution_count": 5,
   "metadata": {},
   "outputs": [
    {
     "name": "stdout",
     "output_type": "stream",
     "text": [
      "Hello there! What is your name? mark\n",
      "Nice to meet you, mark. How old are you?56\n",
      "I'm 25 years old, so I'm 31 years younger than you.\n"
     ]
    }
   ],
   "source": [
    "name = input(\"Hello there! What is your name? \")\n",
    "age = input(\"Nice to meet you, \" + name + \". How old are you?\")\n",
    "if int(age) < 25:\n",
    "    print(\"I'm 25 years old, so I'm %d years older than you. \" %(25 - int(age)))\n",
    "elif int(age) > 25:\n",
    "    print(\"I'm 25 years old, so I'm %d years younger than you. \" %(int(age) - 25))\n",
    "else:\n",
    "    print(\"I'm 25 years old, so I'm the same age as you.\")"
   ]
  },
  {
   "cell_type": "markdown",
   "metadata": {},
   "source": [
    "## Exercise 3: String Art"
   ]
  },
  {
   "cell_type": "markdown",
   "metadata": {},
   "source": [
    "#### 3a. Drawing figures\n",
    "We start with some repetition of the theory about strings:"
   ]
  },
  {
   "cell_type": "markdown",
   "metadata": {},
   "source": [
    "| Topic | Explanation |\n",
    "|-----------|--------|\n",
    "| `quotes` |\tA string is delimited by single quotes ('...') or double quotes (\"...\") |\n",
    "| `special characters` |\tCertain special characters can be used, such as \"\\n\" (for newline) and \"\\t\" (for a tab) \t|  \t \n",
    "| `printing special characters` |\tTo print the special characters, they must be preceded by a backslash (\\\\)\t |\n",
    "| `continue on next line` |\tA backslash (\\\\) at the end of a line is used to continue a string on the next line\t  \t |\n",
    "| `multi-line strings` |\tA multi-line print statement should be enclosed by three double or three single quotes (\"\"\"...\"\"\" of '''...''')\t | "
   ]
  },
  {
   "cell_type": "markdown",
   "metadata": {},
   "source": [
    "Please run the code snippet below and observe what happens:"
   ]
  },
  {
   "cell_type": "code",
   "execution_count": 6,
   "metadata": {},
   "outputs": [
    {
     "name": "stdout",
     "output_type": "stream",
     "text": [
      "hello\n",
      "\n",
      "To print a newline use \\n\n",
      "She said: 'hello'\n",
      "\tThis is indented\n",
      "This is a very, very, very, very, very, very long print statement\n",
      "\n",
      "This is a multi-line print statement\n",
      "First line\n",
      "Second line\n",
      "\n"
     ]
    }
   ],
   "source": [
    "print('hello\\n')\n",
    "print('To print a newline use \\\\n')\n",
    "print('She said: \\'hello\\'')\n",
    "print('\\tThis is indented')\n",
    "print('This is a very, very, very, very, very, very \\\n",
    "long print statement')\n",
    "print('''\n",
    "This is a multi-line print statement\n",
    "First line\n",
    "Second line\n",
    "''')"
   ]
  },
  {
   "cell_type": "markdown",
   "metadata": {},
   "source": [
    "Now write a Python script that prints the following figure using **only one line of code**! (so don't use triple quotes)\n",
    "\n",
    "        | | |\n",
    "         @ @\n",
    "          *\n",
    "        |\"\"\"|\n"
   ]
  },
  {
   "cell_type": "code",
   "execution_count": 15,
   "metadata": {},
   "outputs": [
    {
     "name": "stdout",
     "output_type": "stream",
     "text": [
      "| | |\n",
      " @ @ \n",
      "  *  \n",
      "|\"\"\"|\n"
     ]
    }
   ],
   "source": [
    "# your code here\n",
    "print('| | |\\n @ @ \\n  *  \\n|\"\"\"|')"
   ]
  },
  {
   "cell_type": "markdown",
   "metadata": {},
   "source": [
    "#### 3b. Colors\n",
    "We start again with some repetition of the theory:"
   ]
  },
  {
   "cell_type": "markdown",
   "metadata": {},
   "source": [
    "| Topic | Explanation |\n",
    "|-----------|--------|\n",
    "| a = b + c\t| if b and c are strings: concatenate b and c to form a new string a| \n",
    "| a = b * c\t| if b is an integer and c is a string: b is repeated c times to form a new string a |\n",
    "| a[0] |\t the first character of string a  |\n",
    "| len(a) |\t the number of characters in string a |\n",
    "| min(a) |\t the smallest element in string a (alphabetically first) |\n",
    "| max(a) |\t the largest element in string a (alphabetically last) |"
   ]
  },
  {
   "cell_type": "markdown",
   "metadata": {},
   "source": [
    "Please run the code snippet below and observe what happens:"
   ]
  },
  {
   "cell_type": "code",
   "execution_count": 16,
   "metadata": {},
   "outputs": [
    {
     "name": "stdout",
     "output_type": "stream",
     "text": [
      "the cat is on the mat\n",
      "thethethethethe\n",
      "The first character of cat is c\n",
      "The word c has, 3 characters\n"
     ]
    }
   ],
   "source": [
    "b = 'the'\n",
    "c = 'cat'\n",
    "d = ' is on the mat'\n",
    "a = b + ' ' + c + d\n",
    "print(a)\n",
    "a = b * 5\n",
    "print(a)\n",
    "print('The first character of', c, 'is' , c[0])\n",
    "print('The word c has,', len(c) ,'characters')"
   ]
  },
  {
   "cell_type": "markdown",
   "metadata": {},
   "source": [
    "Now write a program that asks users for their favorite color. Create the following output (assuming \"red\" is the chosen color). Use \"+\" and \"\\*\".\n",
    "It should work with any color name though.\n",
    "\n",
    "```xml\n",
    "red red red red red red red red red red  \n",
    "red                                 red\n",
    "red                                 red\n",
    "red red red red red red red red red red\n",
    "```"
   ]
  },
  {
   "cell_type": "code",
   "execution_count": 24,
   "metadata": {},
   "outputs": [
    {
     "name": "stdout",
     "output_type": "stream",
     "text": [
      "what is your favorite color? blue\n",
      "blue blue blue blue blue blue blue blue blue blue \n",
      "blue                                         blue\n",
      "blue                                         blue\n",
      "blue blue blue blue blue blue blue blue blue blue \n"
     ]
    }
   ],
   "source": [
    "color = input('what is your favorite color? ')\n",
    "\n",
    "print((color + ' ') * 10)\n",
    "print(color + ' ' + ((' ' * len(color) + ' ') * 8) + color)\n",
    "print(color + ' ' + ((' ' * len(color) + ' ') * 8) + color)\n",
    "print((color + ' ') * 10)"
   ]
  },
  {
   "cell_type": "markdown",
   "metadata": {},
   "source": [
    "## Exercise 4: String methods \n",
    "\n",
    "Remember that you can see all methods of the class `str` by using `dir()`. You can ignore all methods that start with one or two underscores. "
   ]
  },
  {
   "cell_type": "code",
   "execution_count": 25,
   "metadata": {},
   "outputs": [
    {
     "data": {
      "text/plain": [
       "['__add__',\n",
       " '__class__',\n",
       " '__contains__',\n",
       " '__delattr__',\n",
       " '__dir__',\n",
       " '__doc__',\n",
       " '__eq__',\n",
       " '__format__',\n",
       " '__ge__',\n",
       " '__getattribute__',\n",
       " '__getitem__',\n",
       " '__getnewargs__',\n",
       " '__gt__',\n",
       " '__hash__',\n",
       " '__init__',\n",
       " '__init_subclass__',\n",
       " '__iter__',\n",
       " '__le__',\n",
       " '__len__',\n",
       " '__lt__',\n",
       " '__mod__',\n",
       " '__mul__',\n",
       " '__ne__',\n",
       " '__new__',\n",
       " '__reduce__',\n",
       " '__reduce_ex__',\n",
       " '__repr__',\n",
       " '__rmod__',\n",
       " '__rmul__',\n",
       " '__setattr__',\n",
       " '__sizeof__',\n",
       " '__str__',\n",
       " '__subclasshook__',\n",
       " 'capitalize',\n",
       " 'casefold',\n",
       " 'center',\n",
       " 'count',\n",
       " 'encode',\n",
       " 'endswith',\n",
       " 'expandtabs',\n",
       " 'find',\n",
       " 'format',\n",
       " 'format_map',\n",
       " 'index',\n",
       " 'isalnum',\n",
       " 'isalpha',\n",
       " 'isascii',\n",
       " 'isdecimal',\n",
       " 'isdigit',\n",
       " 'isidentifier',\n",
       " 'islower',\n",
       " 'isnumeric',\n",
       " 'isprintable',\n",
       " 'isspace',\n",
       " 'istitle',\n",
       " 'isupper',\n",
       " 'join',\n",
       " 'ljust',\n",
       " 'lower',\n",
       " 'lstrip',\n",
       " 'maketrans',\n",
       " 'partition',\n",
       " 'replace',\n",
       " 'rfind',\n",
       " 'rindex',\n",
       " 'rjust',\n",
       " 'rpartition',\n",
       " 'rsplit',\n",
       " 'rstrip',\n",
       " 'split',\n",
       " 'splitlines',\n",
       " 'startswith',\n",
       " 'strip',\n",
       " 'swapcase',\n",
       " 'title',\n",
       " 'translate',\n",
       " 'upper',\n",
       " 'zfill']"
      ]
     },
     "execution_count": 25,
     "metadata": {},
     "output_type": "execute_result"
    }
   ],
   "source": [
    "dir(str)"
   ]
  },
  {
   "cell_type": "markdown",
   "metadata": {},
   "source": [
    "To see the explanation for a method of this class,  you can use `help(str.method)`. For example:"
   ]
  },
  {
   "cell_type": "code",
   "execution_count": 26,
   "metadata": {},
   "outputs": [
    {
     "name": "stdout",
     "output_type": "stream",
     "text": [
      "Help on method_descriptor:\n",
      "\n",
      "upper(self, /)\n",
      "    Return a copy of the string converted to uppercase.\n",
      "\n"
     ]
    }
   ],
   "source": [
    "help(str.upper)"
   ]
  },
  {
   "cell_type": "markdown",
   "metadata": {
    "collapsed": true
   },
   "source": [
    "#### 4a. Counting vowels\n",
    "Count how many of each vowel (a,e,i,o,u) there are in the text string in the next cell, and use the appropriate string method to print the count for each vowel with a single formatted string. Remember that vowels can be both lower and uppercase."
   ]
  },
  {
   "cell_type": "code",
   "execution_count": 28,
   "metadata": {},
   "outputs": [
    {
     "name": "stdout",
     "output_type": "stream",
     "text": [
      "453\n"
     ]
    }
   ],
   "source": [
    "text = \"\"\"But I must explain to you how all this mistaken idea of denouncing pleasure and praising pain was born \n",
    "and I will give you a complete account of the system, and expound the actual teachings of the great explorer of the \n",
    "truth, the master-builder of human happiness. No one rejects, dislikes, or avoids pleasure itself, because it is \n",
    "pleasure, but because those who do not know how to pursue pleasure rationally encounter consequences that are \n",
    "extremely painful. Nor again is there anyone who loves or pursues or desires to obtain pain of itself, because it is \n",
    "pain, but because occasionally circumstances occur in which toil and pain can procure him some great pleasure. \n",
    "To take a trivial example, which of us ever undertakes laborious physical exercise, except to obtain some advantage \n",
    "from it? But who has any right to find fault with a man who chooses to enjoy a pleasure that has no annoying \n",
    "consequences, or one who avoids a pain that produces no resultant pleasure? On the other hand, we denounce with \n",
    "righteous indignation and dislike men who are so beguiled and demoralized by the charms of pleasure of the moment, \n",
    "so blinded by desire, that they cannot foresee the pain and trouble that are bound to ensue; and equal blame belongs \n",
    "to those who fail in their duty through weakness of will, which is the same as saying through shrinking from toil \n",
    "and pain.\"\"\"\n",
    "\n",
    "# your code here\n",
    "vowels = ['a', 'e', 'i', 'o', 'u']\n",
    "count = 0\n",
    "for c in text:\n",
    "    if c in vowels or c.lower() in vowels:\n",
    "        count = count + 1\n",
    "print(count)"
   ]
  },
  {
   "cell_type": "markdown",
   "metadata": {},
   "source": [
    "#### 4b. Printing the lexicon\n",
    "Have a good look at the internal representation of the string below. Use a combination of string methods (you will need at least 3 different ones and some will have to be used multiple times) in the correct order to remove punctuation and redundant whitespaces, and print each word in lowercase characters on a new line. The result should look like:\n",
    "\n",
    "`the  \n",
    "quick  \n",
    "brown  \n",
    "fox  \n",
    "jumps  \n",
    "etc.`"
   ]
  },
  {
   "cell_type": "code",
   "execution_count": 29,
   "metadata": {},
   "outputs": [
    {
     "name": "stdout",
     "output_type": "stream",
     "text": [
      "           The quick, brown fox jumps over a lazy dog.\tDJs flock by when MTV ax quiz prog. \n",
      "Junk MTV quiz graced by fox whelps.\tBawds jog, flick quartz, vex nymphs. \n",
      "Waltz, bad nymph, for quick jigs vex!\tFox nymphs grab quick-jived waltz. \n",
      "Brick quiz whangs jumpy veldt fox.       \n",
      "\n",
      "'           The quick, brown fox jumps over a lazy dog.\\tDJs flock by when MTV ax quiz prog. \\nJunk MTV quiz graced by fox whelps.\\tBawds jog, flick quartz, vex nymphs. \\nWaltz, bad nymph, for quick jigs vex!\\tFox nymphs grab quick-jived waltz. \\nBrick quiz whangs jumpy veldt fox.       '\n"
     ]
    }
   ],
   "source": [
    "text = \"\"\"           The quick, brown fox jumps over a lazy dog.\\tDJs flock by when MTV ax quiz prog. \n",
    "Junk MTV quiz graced by fox whelps.\\tBawds jog, flick quartz, vex nymphs. \n",
    "Waltz, bad nymph, for quick jigs vex!\\tFox nymphs grab quick-jived waltz. \n",
    "Brick quiz whangs jumpy veldt fox.       \"\"\"\n",
    "\n",
    "print(text)\n",
    "print()\n",
    "print(repr(text))"
   ]
  },
  {
   "cell_type": "code",
   "execution_count": 91,
   "metadata": {},
   "outputs": [
    {
     "name": "stdout",
     "output_type": "stream",
     "text": [
      "           The quick, brown fox jumps over a lazy dog.\tDJs flock by when MTV ax quiz prog. \n",
      "Junk MTV quiz graced by fox whelps.\tBawds jog, flick quartz, vex nymphs. \n",
      "Waltz, bad nymph, for quick jigs vex!\tFox nymphs grab quick-jived waltz. \n",
      "Brick quiz whangs jumpy veldt fox.       \n",
      "\n",
      "\n",
      "the\n",
      "quick\n",
      "brown\n",
      "fox\n",
      "jumps\n",
      "over\n",
      "a\n",
      "lazy\n",
      "dog\n",
      "djs\n",
      "flock\n",
      "by\n",
      "when\n",
      "mtv\n",
      "ax\n",
      "quiz\n",
      "prog\n",
      "junk\n",
      "mtv\n",
      "quiz\n",
      "graced\n",
      "by\n",
      "fox\n",
      "whelps\n",
      "bawds\n",
      "jog\n",
      "flick\n",
      "quartz\n",
      "vex\n",
      "nymphs\n",
      "waltz\n",
      "bad\n",
      "nymph\n",
      "for\n",
      "quick\n",
      "jigs\n",
      "vex\n",
      "fox\n",
      "nymphs\n",
      "grab\n",
      "quick-jived\n",
      "waltz\n",
      "brick\n",
      "quiz\n",
      "whangs\n",
      "jumpy\n",
      "veldt\n",
      "fox\n"
     ]
    }
   ],
   "source": [
    "text = \"\"\"           The quick, brown fox jumps over a lazy dog.\\tDJs flock by when MTV ax quiz prog. \n",
    "Junk MTV quiz graced by fox whelps.\\tBawds jog, flick quartz, vex nymphs. \n",
    "Waltz, bad nymph, for quick jigs vex!\\tFox nymphs grab quick-jived waltz. \n",
    "Brick quiz whangs jumpy veldt fox.       \"\"\"\n",
    "s = ''\n",
    "for c in text:\n",
    "    if c == '.' or c == '!' or c == ',':\n",
    "        s = s + ' '\n",
    "    elif c != '\\t' and c != '\\n':\n",
    "        s = s + c       \n",
    "arr = s.split(' ')\n",
    "print(text)\n",
    "print('\\n')\n",
    "for i in arr:\n",
    "    if i != '':\n",
    "        print(i.strip('\\n').strip('\\t').strip(',').strip('.').lower())\n"
   ]
  },
  {
   "cell_type": "markdown",
   "metadata": {
    "collapsed": true
   },
   "source": [
    "#### 4c. Passwords\n",
    "\n",
    "Write a program that asks a user for a password and checks some simple requirements of a password. If necessary, print out the following warnings (use if-statements):\n",
    "\n",
    "1. Your password should contain at least 6 characters.\n",
    "2. Your password should contain no more than 12 characters.\n",
    "3. Your password only contains alphabetic characters! Please also use digits and/or special characters.\n",
    "4. Your password only contains digits! Please also use alphabetic and/or special characters.\n",
    "5. Your password should contain at least one special character.\n",
    "6. Your password contains only lowercase letters! Please also use uppercase letters.\n",
    "7. Your password contains only uppercase letters! Please also use lowercase letters."
   ]
  },
  {
   "cell_type": "code",
   "execution_count": 49,
   "metadata": {},
   "outputs": [
    {
     "name": "stdout",
     "output_type": "stream",
     "text": [
      "Type in password: dsad456@Af\n",
      "Good password\n"
     ]
    }
   ],
   "source": [
    "# your code here\n",
    "password = input('Type in password: ')\n",
    "good_password = True\n",
    "if len(password.strip()) < 7:\n",
    "    print('Your password should contain at least 6 characters.')\n",
    "    good_password = False\n",
    "if len(password.strip()) > 12:\n",
    "    print('Your password should contain no more than 12 characters.')\n",
    "    good_password = False\n",
    "if password.strip().isalpha():\n",
    "    print('Your password only contains alphabetic characters! Please also use digits and/or special characters.')\n",
    "    good_password = False\n",
    "if password.strip().isdigit():\n",
    "    print('Your password only contains digits! Please also use alphabetic and/or special characters.')\n",
    "    good_password = False\n",
    "if not any(c in password for c in \"!?_@#$%^&*.,'\\\"\"):\n",
    "    print('Your password should contain at least one special character.')\n",
    "    good_password = False\n",
    "if password.strip().lower() == password.strip():\n",
    "    print('Your password contains only lowercase letters! Please also use uppercase letters.')\n",
    "    good_password = False\n",
    "if password.strip().upper() == password.strip():\n",
    "    print('Your password contains only uppercase letters! Please also use lowercase letters.')\n",
    "    good_password = False\n",
    "if good_password:\n",
    "    print('Good password')\n",
    "    "
   ]
  },
  {
   "cell_type": "markdown",
   "metadata": {},
   "source": [
    "## Exercise 5: Boolean Logic and Conditions"
   ]
  },
  {
   "cell_type": "markdown",
   "metadata": {},
   "source": [
    "#### 5a. Speeding\n",
    "You are driving a little too fast, and a police officer stops you. Write code to compute the result, encoded as an int value: 0=no ticket, 1=small ticket, 2=big ticket. If speed is 60 or less, the result is 0. If speed is between 61 and 80 inclusive, the result is 1. If speed is 81 or more, the result is 2. Unless it is your birthday -- on that day, your speed can be 5 higher in all cases."
   ]
  },
  {
   "cell_type": "code",
   "execution_count": null,
   "metadata": {
    "collapsed": true
   },
   "outputs": [],
   "source": [
    "# your code here\n",
    "def caught_speeding(speed, is_birthday):\n",
    "    if not is_birthday:\n",
    "        if speed < 61:\n",
    "            return 0\n",
    "    elif speed < 81:\n",
    "        return 1\n",
    "    else:\n",
    "        return 2\n",
    "    else:\n",
    "        if speed < 66:\n",
    "            return 0\n",
    "        elif speed < 86:\n",
    "            return 1\n",
    "        else:\n",
    "            return 2\n",
    "\n"
   ]
  },
  {
   "cell_type": "markdown",
   "metadata": {},
   "source": [
    "#### 5b. Alarm clock\n",
    "\n",
    "Given a day of the week encoded as 0=Sun, 1=Mon, 2=Tue, ...6=Sat, and a boolean indicating if we are on vacation, return a string of the form \"7:00\" indicating when the alarm clock should ring. Weekdays, the alarm should be \"7:00\" and on the weekend it should be \"10:00\". Unless we are on vacation -- then on weekdays it should be \"10:00\" and weekends it should be \"off\"."
   ]
  },
  {
   "cell_type": "code",
   "execution_count": null,
   "metadata": {
    "collapsed": true
   },
   "outputs": [],
   "source": [
    "# your code here\n",
    "def alarm_clock(day, vacation):\n",
    "    if vacation and (day == 0 or day == 6):\n",
    "        return 'off'\n",
    "    elif not vacation and (day == 0 or day == 6):\n",
    "        return '10:00'\n",
    "    elif not vacation and not (day == 0 or day == 6):\n",
    "        return '7:00'\n",
    "    elif vacation and not (day == 0 or day == 6):\n",
    "        return '10:00'\n",
    "    \n",
    "#i've already completed a most of the codingbat python challenges"
   ]
  },
  {
   "cell_type": "markdown",
   "metadata": {},
   "source": [
    "#### 5c. Parcel delivery\n",
    "The required postage for an  international parcel delivery service is calculated based on item weight and country of destination:\n",
    "\n",
    "\n",
    "| Tariff zone | 0 - 2 kg | 2 - 5 kg | 5 - 10 kg | 10 - 20 kg | 20 - 30 kg |\n",
    "|-------------|----------|----------|-----------|------------|------------|\n",
    "|EUR 1 | € 13.00 | € 19.50 | € 25.00 | € 34.00 | € 45.00 | \n",
    "|EUR 2 | € 18.50 | € 25.00 | € 31.00 | € 40.00 | € 55.00 | \n",
    "|World | € 24.30 | € 34.30 | € 58.30 | € 105.30 | - | \n",
    "\n",
    "Ask a user for the `weight` and `zone`. Use (nested) `if`-statements to find the required postage based on these variables. Assign the result to a variable `postage` and print the result using a full sentence:\n",
    "\n",
    "`The price of sending a [...] kg parcel to the [...] zone is € [...].`"
   ]
  },
  {
   "cell_type": "code",
   "execution_count": 52,
   "metadata": {},
   "outputs": [
    {
     "name": "stdout",
     "output_type": "stream",
     "text": [
      "What is the weight in kg? 26\n",
      "What Tarrif Zone? eur 2\n",
      "The price of sending a 26.0 kg parcel to the eur 2 zone is €55.0.\n"
     ]
    }
   ],
   "source": [
    "# your code here\n",
    "weight = float(input('What is the weight in kg? '))\n",
    "zone = input('What Tarrif Zone? ')\n",
    "postage = None\n",
    "if zone.strip().lower() == 'eur 1':\n",
    "    if weight >=0 and weight <2:\n",
    "        postage = 13.00\n",
    "    elif weight >=2 and weight <5:\n",
    "        postage = 19.50\n",
    "    elif weight >=5 and weight <10:\n",
    "        postage = 25.00\n",
    "    elif weight >=10 and weight <20:\n",
    "        postage = 34.00\n",
    "    elif weight >=20 and weight <30:\n",
    "        postage = 45.00\n",
    "elif zone.strip().lower() == 'eur 2':\n",
    "    if weight >=0 and weight <2:\n",
    "        postage = 18.50\n",
    "    elif weight >=2 and weight <5:\n",
    "        postage = 25.00\n",
    "    elif weight >=5 and weight <10:\n",
    "        postage = 31.00\n",
    "    elif weight >=10 and weight <20:\n",
    "        postage = 40.00\n",
    "    elif weight >=20 and weight <30:\n",
    "        postage = 55.00\n",
    "elif zone.strip().lower() == 'world':\n",
    "    if weight >=0 and weight <2:\n",
    "        postage = 24.30\n",
    "    elif weight >=2 and weight <5:\n",
    "        postage = 34.30\n",
    "    elif weight >=5 and weight <10:\n",
    "        postage = 58.30\n",
    "    elif weight >=10 and weight <20:\n",
    "        postage = 105.30\n",
    "print(f\"The price of sending a {weight} kg parcel to the {zone} zone is €{postage}.\")"
   ]
  },
  {
   "cell_type": "code",
   "execution_count": null,
   "metadata": {},
   "outputs": [],
   "source": []
  }
 ],
 "metadata": {
  "anaconda-cloud": {},
  "kernelspec": {
   "display_name": "Python 3",
   "language": "python",
   "name": "python3"
  },
  "language_info": {
   "codemirror_mode": {
    "name": "ipython",
    "version": 3
   },
   "file_extension": ".py",
   "mimetype": "text/x-python",
   "name": "python",
   "nbconvert_exporter": "python",
   "pygments_lexer": "ipython3",
   "version": "3.7.0"
  }
 },
 "nbformat": 4,
 "nbformat_minor": 1
}
